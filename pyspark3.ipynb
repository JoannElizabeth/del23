{
 "cells": [
  {
   "cell_type": "code",
   "execution_count": 1,
   "metadata": {},
   "outputs": [
    {
     "ename": "ModuleNotFoundError",
     "evalue": "No module named 'findspark'",
     "output_type": "error",
     "traceback": [
      "\u001b[1;31m---------------------------------------------------------------------------\u001b[0m",
      "\u001b[1;31mModuleNotFoundError\u001b[0m                       Traceback (most recent call last)",
      "\u001b[1;32m~\\AppData\\Local\\Temp\\ipykernel_9648\\2547702214.py\u001b[0m in \u001b[0;36m<module>\u001b[1;34m\u001b[0m\n\u001b[1;32m----> 1\u001b[1;33m \u001b[1;32mimport\u001b[0m \u001b[0mfindspark\u001b[0m\u001b[1;33m\u001b[0m\u001b[1;33m\u001b[0m\u001b[0m\n\u001b[0m\u001b[0;32m      2\u001b[0m \u001b[0mfindspark\u001b[0m\u001b[1;33m.\u001b[0m\u001b[0minit\u001b[0m\u001b[1;33m(\u001b[0m\u001b[1;34m\"/usr/local/spark\"\u001b[0m\u001b[1;33m)\u001b[0m\u001b[1;33m\u001b[0m\u001b[1;33m\u001b[0m\u001b[0m\n",
      "\u001b[1;31mModuleNotFoundError\u001b[0m: No module named 'findspark'"
     ]
    }
   ],
   "source": [
    "import findspark\n",
    "findspark.init(\"/usr/local/spark\")"
   ]
  },
  {
   "cell_type": "code",
   "execution_count": 2,
   "metadata": {},
   "outputs": [
    {
     "ename": "ModuleNotFoundError",
     "evalue": "No module named 'pyspark'",
     "output_type": "error",
     "traceback": [
      "\u001b[1;31m---------------------------------------------------------------------------\u001b[0m",
      "\u001b[1;31mModuleNotFoundError\u001b[0m                       Traceback (most recent call last)",
      "\u001b[1;32m~\\AppData\\Local\\Temp\\ipykernel_9648\\3729946101.py\u001b[0m in \u001b[0;36m<module>\u001b[1;34m\u001b[0m\n\u001b[1;32m----> 1\u001b[1;33m \u001b[1;32mimport\u001b[0m \u001b[0mpyspark\u001b[0m\u001b[1;33m\u001b[0m\u001b[1;33m\u001b[0m\u001b[0m\n\u001b[0m",
      "\u001b[1;31mModuleNotFoundError\u001b[0m: No module named 'pyspark'"
     ]
    }
   ],
   "source": [
    "import pyspark"
   ]
  },
  {
   "cell_type": "code",
   "execution_count": 3,
   "metadata": {},
   "outputs": [],
   "source": [
    "from pyspark.sql import SparkSession\n",
    "spark = SparkSession.builder.appName(\"Python Spark SQL example\").config(\"spark.sql.warehouse.dir\", \"hdfs://localhost:54310/user/hive/warehouse\").enableHiveSupport().getOrCreate()"
   ]
  },
  {
   "cell_type": "code",
   "execution_count": 4,
   "metadata": {},
   "outputs": [
    {
     "name": "stdout",
     "output_type": "stream",
     "text": [
      "+------------+\n",
      "|databaseName|\n",
      "+------------+\n",
      "|    capstone|\n",
      "|   capstones|\n",
      "|     default|\n",
      "|       del23|\n",
      "|       del24|\n",
      "|    pyspark1|\n",
      "|    pyspark2|\n",
      "+------------+\n",
      "\n"
     ]
    }
   ],
   "source": [
    "spark.sql(\"show databases\").show()"
   ]
  },
  {
   "cell_type": "code",
   "execution_count": 5,
   "metadata": {},
   "outputs": [
    {
     "data": {
      "text/plain": [
       "DataFrame[]"
      ]
     },
     "execution_count": 5,
     "metadata": {},
     "output_type": "execute_result"
    }
   ],
   "source": [
    "spark.sql(\"create database pyspark3\")"
   ]
  },
  {
   "cell_type": "code",
   "execution_count": 6,
   "metadata": {},
   "outputs": [
    {
     "data": {
      "text/plain": [
       "DataFrame[]"
      ]
     },
     "execution_count": 6,
     "metadata": {},
     "output_type": "execute_result"
    }
   ],
   "source": [
    "spark.sql(\"use pyspark3\")"
   ]
  },
  {
   "cell_type": "code",
   "execution_count": 7,
   "metadata": {},
   "outputs": [
    {
     "name": "stdout",
     "output_type": "stream",
     "text": [
      "+--------+---------+-----------+\n",
      "|database|tableName|isTemporary|\n",
      "+--------+---------+-----------+\n",
      "+--------+---------+-----------+\n",
      "\n"
     ]
    }
   ],
   "source": [
    "spark.sql(\"show tables\").show()"
   ]
  },
  {
   "cell_type": "code",
   "execution_count": 8,
   "metadata": {},
   "outputs": [],
   "source": [
    "sc=spark.sparkContext"
   ]
  },
  {
   "cell_type": "code",
   "execution_count": 9,
   "metadata": {},
   "outputs": [],
   "source": [
    "from pyspark.sql import Row"
   ]
  },
  {
   "cell_type": "code",
   "execution_count": 10,
   "metadata": {},
   "outputs": [],
   "source": [
    "udata = sc.textFile(\"/home/hduser/Downloads/pyspark1/u.data\")"
   ]
  },
  {
   "cell_type": "code",
   "execution_count": 11,
   "metadata": {},
   "outputs": [],
   "source": [
    "dffields = udata.map(lambda l: l.split(\"\\t\"))"
   ]
  },
  {
   "cell_type": "code",
   "execution_count": 18,
   "metadata": {},
   "outputs": [],
   "source": [
    "udata = dffields.map(lambda p: Row(UserId=int(p[0]),MovieId=int(p[1]),Rating=int(p[2]),Timestamp=int(p[3])))"
   ]
  },
  {
   "cell_type": "code",
   "execution_count": 19,
   "metadata": {},
   "outputs": [
    {
     "data": {
      "text/plain": [
       "[Row(MovieId=242, Rating=3, Timestamp=881250949, UserId=196),\n",
       " Row(MovieId=302, Rating=3, Timestamp=891717742, UserId=186),\n",
       " Row(MovieId=377, Rating=1, Timestamp=878887116, UserId=22),\n",
       " Row(MovieId=51, Rating=2, Timestamp=880606923, UserId=244),\n",
       " Row(MovieId=346, Rating=1, Timestamp=886397596, UserId=166)]"
      ]
     },
     "execution_count": 19,
     "metadata": {},
     "output_type": "execute_result"
    }
   ],
   "source": [
    "udata.take(5)"
   ]
  },
  {
   "cell_type": "code",
   "execution_count": 15,
   "metadata": {},
   "outputs": [],
   "source": [
    "uuser = sc.textFile(\"/home/hduser/Downloads/pyspark1/u.user\")"
   ]
  },
  {
   "cell_type": "code",
   "execution_count": 16,
   "metadata": {},
   "outputs": [],
   "source": [
    "uffields = uuser.map(lambda l: l.split(\"|\"))"
   ]
  },
  {
   "cell_type": "code",
   "execution_count": 65,
   "metadata": {},
   "outputs": [],
   "source": [
    "uuser = uffields.map(lambda p: Row(UserId=int(p[0]),Age=int(p[1]),Gender=p[2],Occupation=p[3],zipcode=p[4]))"
   ]
  },
  {
   "cell_type": "code",
   "execution_count": 66,
   "metadata": {},
   "outputs": [
    {
     "data": {
      "text/plain": [
       "[Row(Age=24, Gender='M', Occupation='technician', UserId=1, zipcode='85711'),\n",
       " Row(Age=53, Gender='F', Occupation='other', UserId=2, zipcode='94043'),\n",
       " Row(Age=23, Gender='M', Occupation='writer', UserId=3, zipcode='32067'),\n",
       " Row(Age=24, Gender='M', Occupation='technician', UserId=4, zipcode='43537'),\n",
       " Row(Age=33, Gender='F', Occupation='other', UserId=5, zipcode='15213')]"
      ]
     },
     "execution_count": 66,
     "metadata": {},
     "output_type": "execute_result"
    }
   ],
   "source": [
    "uuser.take(5)"
   ]
  },
  {
   "cell_type": "code",
   "execution_count": 67,
   "metadata": {},
   "outputs": [],
   "source": [
    "datadf=spark.createDataFrame(udata)"
   ]
  },
  {
   "cell_type": "code",
   "execution_count": 68,
   "metadata": {},
   "outputs": [],
   "source": [
    "userdf=spark.createDataFrame(uuser)"
   ]
  },
  {
   "cell_type": "code",
   "execution_count": 69,
   "metadata": {},
   "outputs": [],
   "source": [
    "datadf.write.format(\"parquet\").mode(\"overwrite\").saveAsTable(\"udata\")"
   ]
  },
  {
   "cell_type": "code",
   "execution_count": 70,
   "metadata": {},
   "outputs": [],
   "source": [
    "userdf.write.format(\"parquet\").mode(\"overwrite\").saveAsTable(\"userinformation\")\n"
   ]
  },
  {
   "cell_type": "code",
   "execution_count": 72,
   "metadata": {},
   "outputs": [
    {
     "name": "stdout",
     "output_type": "stream",
     "text": [
      "+--------+---------------+-----------+\n",
      "|database|      tableName|isTemporary|\n",
      "+--------+---------------+-----------+\n",
      "|pyspark3|          udata|      false|\n",
      "|pyspark3|userinformation|      false|\n",
      "+--------+---------------+-----------+\n",
      "\n"
     ]
    }
   ],
   "source": [
    "spark.sql(\"show tables\").show()"
   ]
  },
  {
   "cell_type": "code",
   "execution_count": 74,
   "metadata": {},
   "outputs": [
    {
     "name": "stdout",
     "output_type": "stream",
     "text": [
      "+---+------+-------------+------+-------+\n",
      "|Age|Gender|   Occupation|UserId|zipcode|\n",
      "+---+------+-------------+------+-------+\n",
      "| 30|     F|       artist|    23|  48197|\n",
      "| 49|     F|    executive|    98|  90291|\n",
      "| 21|     F|       artist|    24|  94533|\n",
      "| 53|     F|        other|     2|  94043|\n",
      "| 40|     F|    librarian|    27|  30030|\n",
      "| 29|     F|    librarian|    43|  20854|\n",
      "| 27|     F|    marketing|    46|  46538|\n",
      "| 39|     F|        other|    11|  30329|\n",
      "| 23|     F|      student|    49|  76111|\n",
      "| 49|     F|     educator|    15|  97301|\n",
      "| 18|     F|      student|    52|  55105|\n",
      "| 42|     F|    homemaker|    20|  95660|\n",
      "| 27|     F|administrator|    62|  97214|\n",
      "| 28|     F|      student|    32|  78741|\n",
      "| 51|     F|     educator|    65|  48118|\n",
      "| 20|     F|    homemaker|    35|  42459|\n",
      "| 48|     F|administrator|    72|  73034|\n",
      "| 28|     F|        other|    38|  54467|\n",
      "| 39|     F|administrator|    79|  03755|\n",
      "| 28|     F|        other|    12|  06405|\n",
      "+---+------+-------------+------+-------+\n",
      "only showing top 20 rows\n",
      "\n"
     ]
    }
   ],
   "source": [
    "spark.sql(\"select * from userinformation order by Gender \").show()"
   ]
  },
  {
   "cell_type": "code",
   "execution_count": 81,
   "metadata": {},
   "outputs": [
    {
     "name": "stdout",
     "output_type": "stream",
     "text": [
      "+-------+------+\n",
      "|MovieId|Rating|\n",
      "+-------+------+\n",
      "|     95|     5|\n",
      "|    201|     5|\n",
      "|    234|     5|\n",
      "|    465|     5|\n",
      "|    603|     5|\n",
      "+-------+------+\n",
      "\n"
     ]
    }
   ],
   "source": [
    "spark.sql(\"select MovieId,Rating from udata order by Rating desc limit 5\").show()"
   ]
  },
  {
   "cell_type": "code",
   "execution_count": 78,
   "metadata": {},
   "outputs": [
    {
     "name": "stdout",
     "output_type": "stream",
     "text": [
      "+-------------+------+\n",
      "|count(Rating)|UserId|\n",
      "+-------------+------+\n",
      "|          737|   405|\n",
      "|          685|   655|\n",
      "|          636|    13|\n",
      "|          540|   450|\n",
      "|          518|   276|\n",
      "+-------------+------+\n",
      "\n"
     ]
    }
   ],
   "source": [
    "spark.sql(\"select count(Rating),UserId from udata group by UserId order by count(Rating) desc limit 5\").show()"
   ]
  },
  {
   "cell_type": "code",
   "execution_count": 82,
   "metadata": {},
   "outputs": [
    {
     "name": "stdout",
     "output_type": "stream",
     "text": [
      "+-------+------+\n",
      "|MovieId|Rating|\n",
      "+-------+------+\n",
      "|    603|     5|\n",
      "|    423|     5|\n",
      "|    327|     5|\n",
      "|    222|     5|\n",
      "|    201|     5|\n",
      "|    387|     5|\n",
      "|   1137|     5|\n",
      "|    234|     5|\n",
      "|    241|     5|\n",
      "|      4|     5|\n",
      "+-------+------+\n",
      "\n"
     ]
    }
   ],
   "source": [
    "spark.sql(\"select MovieId, Rating from udata order by Rating desc limit 10\").show()"
   ]
  },
  {
   "cell_type": "code",
   "execution_count": 86,
   "metadata": {},
   "outputs": [
    {
     "name": "stdout",
     "output_type": "stream",
     "text": [
      "+-------+------+\n",
      "|MovieId|Rating|\n",
      "+-------+------+\n",
      "|    603|     5|\n",
      "|    143|     5|\n",
      "|    327|     5|\n",
      "|   1014|     5|\n",
      "|    201|     5|\n",
      "|    387|     5|\n",
      "|   1137|     5|\n",
      "|    234|     5|\n",
      "|    241|     5|\n",
      "+-------+------+\n",
      "\n"
     ]
    }
   ],
   "source": [
    "spark.sql(\"select MovieId, Rating from udata order by Rating desc limit 9\").show()"
   ]
  },
  {
   "cell_type": "code",
   "execution_count": 90,
   "metadata": {},
   "outputs": [
    {
     "name": "stdout",
     "output_type": "stream",
     "text": [
      "+-------------+------+\n",
      "|count(Rating)|UserId|\n",
      "+-------------+------+\n",
      "|          172|   416|\n",
      "|          161|     7|\n",
      "|          147|    90|\n",
      "|          145|   592|\n",
      "|          142|   747|\n",
      "|          139|   312|\n",
      "|          137|   551|\n",
      "|          136|    13|\n",
      "|          134|    59|\n",
      "|          126|   450|\n",
      "+-------------+------+\n",
      "\n"
     ]
    }
   ],
   "source": [
    "spark.sql(\"select count(Rating),UserId from udata where Rating in (select Rating from udata where Rating=5)group by UserId order by count(Rating) desc limit 10\").show()"
   ]
  },
  {
   "cell_type": "code",
   "execution_count": 89,
   "metadata": {},
   "outputs": [
    {
     "name": "stdout",
     "output_type": "stream",
     "text": [
      "+------+------+\n",
      "|UserId|Rating|\n",
      "+------+------+\n",
      "|   416|     5|\n",
      "|   416|     4|\n",
      "|   416|     4|\n",
      "|   416|     1|\n",
      "|   416|     3|\n",
      "|   416|     5|\n",
      "|   416|     4|\n",
      "|   416|     4|\n",
      "|   416|     5|\n",
      "|   416|     3|\n",
      "|   416|     5|\n",
      "|   416|     1|\n",
      "|   416|     3|\n",
      "|   416|     3|\n",
      "|   416|     4|\n",
      "|   416|     5|\n",
      "|   416|     4|\n",
      "|   416|     4|\n",
      "|   416|     5|\n",
      "|   416|     5|\n",
      "+------+------+\n",
      "only showing top 20 rows\n",
      "\n"
     ]
    }
   ],
   "source": [
    "spark.sql(\"select UserId,Rating from udata where UserId=416\").show()"
   ]
  },
  {
   "cell_type": "code",
   "execution_count": 91,
   "metadata": {},
   "outputs": [
    {
     "name": "stdout",
     "output_type": "stream",
     "text": [
      "+--------------+\n",
      "|count(MovieId)|\n",
      "+--------------+\n",
      "|        100000|\n",
      "+--------------+\n",
      "\n"
     ]
    }
   ],
   "source": [
    "spark.sql(\"select count(MovieId) from udata\").show()"
   ]
  },
  {
   "cell_type": "code",
   "execution_count": 93,
   "metadata": {},
   "outputs": [
    {
     "data": {
      "text/plain": [
       "[Row(Age=24, Gender='M', Occupation='technician', UserId=1, zipcode='85711'),\n",
       " Row(Age=53, Gender='F', Occupation='other', UserId=2, zipcode='94043'),\n",
       " Row(Age=23, Gender='M', Occupation='writer', UserId=3, zipcode='32067'),\n",
       " Row(Age=24, Gender='M', Occupation='technician', UserId=4, zipcode='43537'),\n",
       " Row(Age=33, Gender='F', Occupation='other', UserId=5, zipcode='15213'),\n",
       " Row(Age=42, Gender='M', Occupation='executive', UserId=6, zipcode='98101'),\n",
       " Row(Age=57, Gender='M', Occupation='administrator', UserId=7, zipcode='91344'),\n",
       " Row(Age=36, Gender='M', Occupation='administrator', UserId=8, zipcode='05201'),\n",
       " Row(Age=29, Gender='M', Occupation='student', UserId=9, zipcode='01002'),\n",
       " Row(Age=53, Gender='M', Occupation='lawyer', UserId=10, zipcode='90703')]"
      ]
     },
     "execution_count": 93,
     "metadata": {},
     "output_type": "execute_result"
    }
   ],
   "source": [
    "userdf.head(10)"
   ]
  },
  {
   "cell_type": "code",
   "execution_count": 103,
   "metadata": {},
   "outputs": [
    {
     "name": "stdout",
     "output_type": "stream",
     "text": [
      "+---+------+-------------+------+-------+\n",
      "|Age|Gender|   Occupation|UserId|zipcode|\n",
      "+---+------+-------------+------+-------+\n",
      "| 24|     M|   technician|     1|  85711|\n",
      "| 53|     F|        other|     2|  94043|\n",
      "| 23|     M|       writer|     3|  32067|\n",
      "| 24|     M|   technician|     4|  43537|\n",
      "| 33|     F|        other|     5|  15213|\n",
      "| 42|     M|    executive|     6|  98101|\n",
      "| 57|     M|administrator|     7|  91344|\n",
      "| 36|     M|administrator|     8|  05201|\n",
      "| 29|     M|      student|     9|  01002|\n",
      "| 53|     M|       lawyer|    10|  90703|\n",
      "| 39|     F|        other|    11|  30329|\n",
      "| 28|     F|        other|    12|  06405|\n",
      "| 47|     M|     educator|    13|  29206|\n",
      "| 45|     M|    scientist|    14|  55106|\n",
      "| 49|     F|     educator|    15|  97301|\n",
      "| 21|     M|entertainment|    16|  10309|\n",
      "| 30|     M|   programmer|    17|  06355|\n",
      "| 35|     F|        other|    18|  37212|\n",
      "| 40|     M|    librarian|    19|  02138|\n",
      "| 42|     F|    homemaker|    20|  95660|\n",
      "+---+------+-------------+------+-------+\n",
      "only showing top 20 rows\n",
      "\n"
     ]
    }
   ],
   "source": [
    "userdf.show()"
   ]
  },
  {
   "cell_type": "code",
   "execution_count": null,
   "metadata": {},
   "outputs": [],
   "source": []
  },
  {
   "cell_type": "code",
   "execution_count": 102,
   "metadata": {},
   "outputs": [
    {
     "name": "stdout",
     "output_type": "stream",
     "text": [
      "+---+------+-------------+------+-------+---------+\n",
      "|Age|Gender|   Occupation|UserId|zipcode|Age Group|\n",
      "+---+------+-------------+------+-------+---------+\n",
      "| 24|     M|   technician|     1|  85711|      2.4|\n",
      "| 53|     F|        other|     2|  94043|      5.3|\n",
      "| 23|     M|       writer|     3|  32067|      2.3|\n",
      "| 24|     M|   technician|     4|  43537|      2.4|\n",
      "| 33|     F|        other|     5|  15213|      3.3|\n",
      "| 42|     M|    executive|     6|  98101|      4.2|\n",
      "| 57|     M|administrator|     7|  91344|      5.7|\n",
      "| 36|     M|administrator|     8|  05201|      3.6|\n",
      "| 29|     M|      student|     9|  01002|      2.9|\n",
      "| 53|     M|       lawyer|    10|  90703|      5.3|\n",
      "| 39|     F|        other|    11|  30329|      3.9|\n",
      "| 28|     F|        other|    12|  06405|      2.8|\n",
      "| 47|     M|     educator|    13|  29206|      4.7|\n",
      "| 45|     M|    scientist|    14|  55106|      4.5|\n",
      "| 49|     F|     educator|    15|  97301|      4.9|\n",
      "| 21|     M|entertainment|    16|  10309|      2.1|\n",
      "| 30|     M|   programmer|    17|  06355|      3.0|\n",
      "| 35|     F|        other|    18|  37212|      3.5|\n",
      "| 40|     M|    librarian|    19|  02138|      4.0|\n",
      "| 42|     F|    homemaker|    20|  95660|      4.2|\n",
      "+---+------+-------------+------+-------+---------+\n",
      "only showing top 20 rows\n",
      "\n"
     ]
    }
   ],
   "source": [
    "userdf.withColumn(\"Age Group\", userdf.Age/10).show()"
   ]
  },
  {
   "cell_type": "code",
   "execution_count": 117,
   "metadata": {},
   "outputs": [],
   "source": [
    "userdf1=spark.sql(\"select *,floor(Age/10) as AgeGroup from userinformation\")"
   ]
  },
  {
   "cell_type": "code",
   "execution_count": 118,
   "metadata": {},
   "outputs": [
    {
     "name": "stdout",
     "output_type": "stream",
     "text": [
      "+---+------+-------------+------+-------+--------+\n",
      "|Age|Gender|   Occupation|UserId|zipcode|AgeGroup|\n",
      "+---+------+-------------+------+-------+--------+\n",
      "| 24|     M|   technician|     1|  85711|       2|\n",
      "| 53|     F|        other|     2|  94043|       5|\n",
      "| 23|     M|       writer|     3|  32067|       2|\n",
      "| 24|     M|   technician|     4|  43537|       2|\n",
      "| 33|     F|        other|     5|  15213|       3|\n",
      "| 42|     M|    executive|     6|  98101|       4|\n",
      "| 57|     M|administrator|     7|  91344|       5|\n",
      "| 36|     M|administrator|     8|  05201|       3|\n",
      "| 29|     M|      student|     9|  01002|       2|\n",
      "| 53|     M|       lawyer|    10|  90703|       5|\n",
      "| 39|     F|        other|    11|  30329|       3|\n",
      "| 28|     F|        other|    12|  06405|       2|\n",
      "| 47|     M|     educator|    13|  29206|       4|\n",
      "| 45|     M|    scientist|    14|  55106|       4|\n",
      "| 49|     F|     educator|    15|  97301|       4|\n",
      "| 21|     M|entertainment|    16|  10309|       2|\n",
      "| 30|     M|   programmer|    17|  06355|       3|\n",
      "| 35|     F|        other|    18|  37212|       3|\n",
      "| 40|     M|    librarian|    19|  02138|       4|\n",
      "| 42|     F|    homemaker|    20|  95660|       4|\n",
      "+---+------+-------------+------+-------+--------+\n",
      "only showing top 20 rows\n",
      "\n"
     ]
    }
   ],
   "source": [
    "userdf1.show()"
   ]
  },
  {
   "cell_type": "code",
   "execution_count": 126,
   "metadata": {},
   "outputs": [],
   "source": [
    "userdf1.createOrReplaceTempView(\"user1\")"
   ]
  },
  {
   "cell_type": "code",
   "execution_count": 138,
   "metadata": {},
   "outputs": [
    {
     "name": "stdout",
     "output_type": "stream",
     "text": [
      "+---+------+-------------+------+-------+--------+----+\n",
      "|Age|Gender|   Occupation|UserId|zipcode|AgeGroup|Male|\n",
      "+---+------+-------------+------+-------+--------+----+\n",
      "| 24|     M|   technician|     1|  85711|       2|   1|\n",
      "| 53|     F|        other|     2|  94043|       5|   0|\n",
      "| 23|     M|       writer|     3|  32067|       2|   1|\n",
      "| 24|     M|   technician|     4|  43537|       2|   1|\n",
      "| 33|     F|        other|     5|  15213|       3|   0|\n",
      "| 42|     M|    executive|     6|  98101|       4|   1|\n",
      "| 57|     M|administrator|     7|  91344|       5|   1|\n",
      "| 36|     M|administrator|     8|  05201|       3|   1|\n",
      "| 29|     M|      student|     9|  01002|       2|   1|\n",
      "| 53|     M|       lawyer|    10|  90703|       5|   1|\n",
      "| 39|     F|        other|    11|  30329|       3|   0|\n",
      "| 28|     F|        other|    12|  06405|       2|   0|\n",
      "| 47|     M|     educator|    13|  29206|       4|   1|\n",
      "| 45|     M|    scientist|    14|  55106|       4|   1|\n",
      "| 49|     F|     educator|    15|  97301|       4|   0|\n",
      "| 21|     M|entertainment|    16|  10309|       2|   1|\n",
      "| 30|     M|   programmer|    17|  06355|       3|   1|\n",
      "| 35|     F|        other|    18|  37212|       3|   0|\n",
      "| 40|     M|    librarian|    19|  02138|       4|   1|\n",
      "| 42|     F|    homemaker|    20|  95660|       4|   0|\n",
      "+---+------+-------------+------+-------+--------+----+\n",
      "only showing top 20 rows\n",
      "\n"
     ]
    }
   ],
   "source": [
    "spark.sql(\"select *, case when Gender='M' then 1 else 0 end as Male from user1 \").show()"
   ]
  },
  {
   "cell_type": "code",
   "execution_count": 139,
   "metadata": {},
   "outputs": [],
   "source": [
    "userdf2=spark.sql(\"select *, case when Gender='M' then 1 else 0 end as Male from user1 \")"
   ]
  },
  {
   "cell_type": "code",
   "execution_count": 140,
   "metadata": {},
   "outputs": [
    {
     "name": "stdout",
     "output_type": "stream",
     "text": [
      "+---+------+-------------+------+-------+--------+----+\n",
      "|Age|Gender|   Occupation|UserId|zipcode|AgeGroup|Male|\n",
      "+---+------+-------------+------+-------+--------+----+\n",
      "| 24|     M|   technician|     1|  85711|       2|   1|\n",
      "| 53|     F|        other|     2|  94043|       5|   0|\n",
      "| 23|     M|       writer|     3|  32067|       2|   1|\n",
      "| 24|     M|   technician|     4|  43537|       2|   1|\n",
      "| 33|     F|        other|     5|  15213|       3|   0|\n",
      "| 42|     M|    executive|     6|  98101|       4|   1|\n",
      "| 57|     M|administrator|     7|  91344|       5|   1|\n",
      "| 36|     M|administrator|     8|  05201|       3|   1|\n",
      "| 29|     M|      student|     9|  01002|       2|   1|\n",
      "| 53|     M|       lawyer|    10|  90703|       5|   1|\n",
      "| 39|     F|        other|    11|  30329|       3|   0|\n",
      "| 28|     F|        other|    12|  06405|       2|   0|\n",
      "| 47|     M|     educator|    13|  29206|       4|   1|\n",
      "| 45|     M|    scientist|    14|  55106|       4|   1|\n",
      "| 49|     F|     educator|    15|  97301|       4|   0|\n",
      "| 21|     M|entertainment|    16|  10309|       2|   1|\n",
      "| 30|     M|   programmer|    17|  06355|       3|   1|\n",
      "| 35|     F|        other|    18|  37212|       3|   0|\n",
      "| 40|     M|    librarian|    19|  02138|       4|   1|\n",
      "| 42|     F|    homemaker|    20|  95660|       4|   0|\n",
      "+---+------+-------------+------+-------+--------+----+\n",
      "only showing top 20 rows\n",
      "\n"
     ]
    }
   ],
   "source": [
    "userdf2.show()"
   ]
  },
  {
   "cell_type": "code",
   "execution_count": 141,
   "metadata": {},
   "outputs": [],
   "source": [
    "userdf2.createOrReplaceTempView(\"user2\")"
   ]
  },
  {
   "cell_type": "code",
   "execution_count": 142,
   "metadata": {},
   "outputs": [
    {
     "name": "stdout",
     "output_type": "stream",
     "text": [
      "+---+------+-------------+------+-------+--------+----+------+\n",
      "|Age|Gender|   Occupation|UserId|zipcode|AgeGroup|Male|Female|\n",
      "+---+------+-------------+------+-------+--------+----+------+\n",
      "| 24|     M|   technician|     1|  85711|       2|   1|     0|\n",
      "| 53|     F|        other|     2|  94043|       5|   0|     1|\n",
      "| 23|     M|       writer|     3|  32067|       2|   1|     0|\n",
      "| 24|     M|   technician|     4|  43537|       2|   1|     0|\n",
      "| 33|     F|        other|     5|  15213|       3|   0|     1|\n",
      "| 42|     M|    executive|     6|  98101|       4|   1|     0|\n",
      "| 57|     M|administrator|     7|  91344|       5|   1|     0|\n",
      "| 36|     M|administrator|     8|  05201|       3|   1|     0|\n",
      "| 29|     M|      student|     9|  01002|       2|   1|     0|\n",
      "| 53|     M|       lawyer|    10|  90703|       5|   1|     0|\n",
      "| 39|     F|        other|    11|  30329|       3|   0|     1|\n",
      "| 28|     F|        other|    12|  06405|       2|   0|     1|\n",
      "| 47|     M|     educator|    13|  29206|       4|   1|     0|\n",
      "| 45|     M|    scientist|    14|  55106|       4|   1|     0|\n",
      "| 49|     F|     educator|    15|  97301|       4|   0|     1|\n",
      "| 21|     M|entertainment|    16|  10309|       2|   1|     0|\n",
      "| 30|     M|   programmer|    17|  06355|       3|   1|     0|\n",
      "| 35|     F|        other|    18|  37212|       3|   0|     1|\n",
      "| 40|     M|    librarian|    19|  02138|       4|   1|     0|\n",
      "| 42|     F|    homemaker|    20|  95660|       4|   0|     1|\n",
      "+---+------+-------------+------+-------+--------+----+------+\n",
      "only showing top 20 rows\n",
      "\n"
     ]
    }
   ],
   "source": [
    "spark.sql(\"select *, case when Gender='F' then 1 else 0 end as Female from user2 \").show()"
   ]
  },
  {
   "cell_type": "code",
   "execution_count": 143,
   "metadata": {},
   "outputs": [],
   "source": [
    "userdf3=spark.sql(\"select *, case when Gender='F' then 1 else 0 end as Female from user2 \")"
   ]
  },
  {
   "cell_type": "code",
   "execution_count": 144,
   "metadata": {},
   "outputs": [
    {
     "name": "stdout",
     "output_type": "stream",
     "text": [
      "+---+------+-------------+------+-------+--------+----+------+\n",
      "|Age|Gender|   Occupation|UserId|zipcode|AgeGroup|Male|Female|\n",
      "+---+------+-------------+------+-------+--------+----+------+\n",
      "| 24|     M|   technician|     1|  85711|       2|   1|     0|\n",
      "| 53|     F|        other|     2|  94043|       5|   0|     1|\n",
      "| 23|     M|       writer|     3|  32067|       2|   1|     0|\n",
      "| 24|     M|   technician|     4|  43537|       2|   1|     0|\n",
      "| 33|     F|        other|     5|  15213|       3|   0|     1|\n",
      "| 42|     M|    executive|     6|  98101|       4|   1|     0|\n",
      "| 57|     M|administrator|     7|  91344|       5|   1|     0|\n",
      "| 36|     M|administrator|     8|  05201|       3|   1|     0|\n",
      "| 29|     M|      student|     9|  01002|       2|   1|     0|\n",
      "| 53|     M|       lawyer|    10|  90703|       5|   1|     0|\n",
      "| 39|     F|        other|    11|  30329|       3|   0|     1|\n",
      "| 28|     F|        other|    12|  06405|       2|   0|     1|\n",
      "| 47|     M|     educator|    13|  29206|       4|   1|     0|\n",
      "| 45|     M|    scientist|    14|  55106|       4|   1|     0|\n",
      "| 49|     F|     educator|    15|  97301|       4|   0|     1|\n",
      "| 21|     M|entertainment|    16|  10309|       2|   1|     0|\n",
      "| 30|     M|   programmer|    17|  06355|       3|   1|     0|\n",
      "| 35|     F|        other|    18|  37212|       3|   0|     1|\n",
      "| 40|     M|    librarian|    19|  02138|       4|   1|     0|\n",
      "| 42|     F|    homemaker|    20|  95660|       4|   0|     1|\n",
      "+---+------+-------------+------+-------+--------+----+------+\n",
      "only showing top 20 rows\n",
      "\n"
     ]
    }
   ],
   "source": [
    "userdf3.show()"
   ]
  },
  {
   "cell_type": "code",
   "execution_count": 145,
   "metadata": {},
   "outputs": [],
   "source": [
    "userdf3.createOrReplaceTempView('user3')"
   ]
  },
  {
   "cell_type": "code",
   "execution_count": 174,
   "metadata": {},
   "outputs": [
    {
     "name": "stdout",
     "output_type": "stream",
     "text": [
      "+-------------+\n",
      "|   Occupation|\n",
      "+-------------+\n",
      "|    librarian|\n",
      "|      retired|\n",
      "|       lawyer|\n",
      "|         none|\n",
      "|       writer|\n",
      "|   programmer|\n",
      "|    marketing|\n",
      "|        other|\n",
      "|    executive|\n",
      "|    scientist|\n",
      "|      student|\n",
      "|     salesman|\n",
      "|       artist|\n",
      "|   technician|\n",
      "|administrator|\n",
      "|     engineer|\n",
      "|   healthcare|\n",
      "|     educator|\n",
      "|entertainment|\n",
      "|    homemaker|\n",
      "+-------------+\n",
      "only showing top 20 rows\n",
      "\n"
     ]
    }
   ],
   "source": [
    "spark.sql(\"select distinct(Occupation) from user2\").show()"
   ]
  },
  {
   "cell_type": "code",
   "execution_count": 178,
   "metadata": {},
   "outputs": [
    {
     "name": "stdout",
     "output_type": "stream",
     "text": [
      "+---+------+-------------+------+-------+--------+----+------+------+------------+\n",
      "|Age|Gender|   Occupation|UserId|zipcode|AgeGroup|Male|Female|seqnum|OccupationId|\n",
      "+---+------+-------------+------+-------+--------+----+------+------+------------+\n",
      "| 24|     M|   technician|     1|  85711|       2|   1|     0|     1|           1|\n",
      "| 53|     F|        other|     2|  94043|       5|   0|     1|     2|           2|\n",
      "| 23|     M|       writer|     3|  32067|       2|   1|     0|     3|           3|\n",
      "| 24|     M|   technician|     4|  43537|       2|   1|     0|     1|           1|\n",
      "| 33|     F|        other|     5|  15213|       3|   0|     1|     2|           2|\n",
      "| 42|     M|    executive|     6|  98101|       4|   1|     0|     6|           4|\n",
      "| 57|     M|administrator|     7|  91344|       5|   1|     0|     7|           5|\n",
      "| 36|     M|administrator|     8|  05201|       3|   1|     0|     7|           5|\n",
      "| 29|     M|      student|     9|  01002|       2|   1|     0|     9|           6|\n",
      "| 53|     M|       lawyer|    10|  90703|       5|   1|     0|    10|           7|\n",
      "| 39|     F|        other|    11|  30329|       3|   0|     1|     2|           2|\n",
      "| 28|     F|        other|    12|  06405|       2|   0|     1|     2|           2|\n",
      "| 47|     M|     educator|    13|  29206|       4|   1|     0|    13|           8|\n",
      "| 45|     M|    scientist|    14|  55106|       4|   1|     0|    14|           9|\n",
      "| 49|     F|     educator|    15|  97301|       4|   0|     1|    13|           8|\n",
      "| 21|     M|entertainment|    16|  10309|       2|   1|     0|    16|          10|\n",
      "| 30|     M|   programmer|    17|  06355|       3|   1|     0|    17|          11|\n",
      "| 35|     F|        other|    18|  37212|       3|   0|     1|     2|           2|\n",
      "| 40|     M|    librarian|    19|  02138|       4|   1|     0|    19|          12|\n",
      "| 42|     F|    homemaker|    20|  95660|       4|   0|     1|    20|          13|\n",
      "+---+------+-------------+------+-------+--------+----+------+------+------------+\n",
      "only showing top 20 rows\n",
      "\n"
     ]
    }
   ],
   "source": [
    "spark.sql(\"select *, dense_rank() over (order by seqnum) as OccupationId from (select *, min(UserId) over (partition by Occupation) as seqnum from user3) user3 order by UserId\").show()"
   ]
  },
  {
   "cell_type": "code",
   "execution_count": 183,
   "metadata": {},
   "outputs": [],
   "source": [
    "userdf4=spark.sql(\"select user3.*, dense_rank() over (order by seqnum) as OccupationId from (select user3.*, min(UserId) over (partition by Occupation) as seqnum from user3) user3 order by UserId\")"
   ]
  },
  {
   "cell_type": "code",
   "execution_count": 184,
   "metadata": {},
   "outputs": [
    {
     "name": "stdout",
     "output_type": "stream",
     "text": [
      "+---+------+-------------+------+-------+--------+----+------+------+------------+\n",
      "|Age|Gender|   Occupation|UserId|zipcode|AgeGroup|Male|Female|seqnum|OccupationId|\n",
      "+---+------+-------------+------+-------+--------+----+------+------+------------+\n",
      "| 24|     M|   technician|     1|  85711|       2|   1|     0|     1|           1|\n",
      "| 53|     F|        other|     2|  94043|       5|   0|     1|     2|           2|\n",
      "| 23|     M|       writer|     3|  32067|       2|   1|     0|     3|           3|\n",
      "| 24|     M|   technician|     4|  43537|       2|   1|     0|     1|           1|\n",
      "| 33|     F|        other|     5|  15213|       3|   0|     1|     2|           2|\n",
      "| 42|     M|    executive|     6|  98101|       4|   1|     0|     6|           4|\n",
      "| 57|     M|administrator|     7|  91344|       5|   1|     0|     7|           5|\n",
      "| 36|     M|administrator|     8|  05201|       3|   1|     0|     7|           5|\n",
      "| 29|     M|      student|     9|  01002|       2|   1|     0|     9|           6|\n",
      "| 53|     M|       lawyer|    10|  90703|       5|   1|     0|    10|           7|\n",
      "| 39|     F|        other|    11|  30329|       3|   0|     1|     2|           2|\n",
      "| 28|     F|        other|    12|  06405|       2|   0|     1|     2|           2|\n",
      "| 47|     M|     educator|    13|  29206|       4|   1|     0|    13|           8|\n",
      "| 45|     M|    scientist|    14|  55106|       4|   1|     0|    14|           9|\n",
      "| 49|     F|     educator|    15|  97301|       4|   0|     1|    13|           8|\n",
      "| 21|     M|entertainment|    16|  10309|       2|   1|     0|    16|          10|\n",
      "| 30|     M|   programmer|    17|  06355|       3|   1|     0|    17|          11|\n",
      "| 35|     F|        other|    18|  37212|       3|   0|     1|     2|           2|\n",
      "| 40|     M|    librarian|    19|  02138|       4|   1|     0|    19|          12|\n",
      "| 42|     F|    homemaker|    20|  95660|       4|   0|     1|    20|          13|\n",
      "+---+------+-------------+------+-------+--------+----+------+------+------------+\n",
      "only showing top 20 rows\n",
      "\n"
     ]
    }
   ],
   "source": [
    "userdf4.show()"
   ]
  },
  {
   "cell_type": "code",
   "execution_count": 190,
   "metadata": {},
   "outputs": [],
   "source": [
    "df1=spark.sql(\"select user3.*, min(UserId) over (partition by Occupation) as seqnum from user3 order by UserId\")"
   ]
  },
  {
   "cell_type": "code",
   "execution_count": 191,
   "metadata": {},
   "outputs": [],
   "source": [
    "df1.createOrReplaceTempView('df1')"
   ]
  },
  {
   "cell_type": "code",
   "execution_count": 192,
   "metadata": {},
   "outputs": [
    {
     "name": "stdout",
     "output_type": "stream",
     "text": [
      "+---+------+----------+------+-------+--------+----+------+------+\n",
      "|Age|Gender|Occupation|UserId|zipcode|AgeGroup|Male|Female|seqnum|\n",
      "+---+------+----------+------+-------+--------+----+------+------+\n",
      "+---+------+----------+------+-------+--------+----+------+------+\n",
      "\n"
     ]
    }
   ],
   "source": [
    "spark.sql(\"select * from df1 where seqnum=8\").show()"
   ]
  },
  {
   "cell_type": "code",
   "execution_count": 193,
   "metadata": {},
   "outputs": [],
   "source": [
    "userdf4.createOrReplaceTempView('user4')"
   ]
  },
  {
   "cell_type": "code",
   "execution_count": 194,
   "metadata": {},
   "outputs": [
    {
     "name": "stdout",
     "output_type": "stream",
     "text": [
      "+---+------+----------+------+-------+--------+----+------+------+------------+\n",
      "|Age|Gender|Occupation|UserId|zipcode|AgeGroup|Male|Female|seqnum|OccupationId|\n",
      "+---+------+----------+------+-------+--------+----+------+------+------------+\n",
      "| 47|     M|  educator|    13|  29206|       4|   1|     0|    13|           8|\n",
      "| 49|     F|  educator|    15|  97301|       4|   0|     1|    13|           8|\n",
      "| 28|     M|  educator|    51|  16509|       2|   1|     0|    13|           8|\n",
      "| 49|     M|  educator|    59|  08403|       4|   1|     0|    13|           8|\n",
      "| 32|     M|  educator|    64|  43202|       3|   1|     0|    13|           8|\n",
      "| 51|     F|  educator|    65|  48118|       5|   0|     1|    13|           8|\n",
      "| 51|     M|  educator|    85|  20003|       5|   1|     0|    13|           8|\n",
      "| 60|     M|  educator|    90|  78155|       6|   1|     0|    13|           8|\n",
      "| 44|     M|  educator|   108|  63130|       4|   1|     0|    13|           8|\n",
      "| 50|     M|  educator|   137|  84408|       5|   1|     0|    13|           8|\n",
      "| 33|     F|  educator|   152|  68767|       3|   0|     1|    13|           8|\n",
      "| 25|     M|  educator|   156|  08360|       2|   1|     0|    13|           8|\n",
      "| 50|     M|  educator|   158|  27606|       5|   1|     0|    13|           8|\n",
      "| 47|     M|  educator|   166|  55113|       4|   1|     0|    13|           8|\n",
      "| 48|     F|  educator|   171|  78750|       4|   0|     1|    13|           8|\n",
      "| 26|     M|  educator|   187|  16801|       2|   1|     0|    13|           8|\n",
      "| 42|     M|  educator|   192|  90840|       4|   1|     0|    13|           8|\n",
      "| 41|     F|  educator|   202|  60201|       4|   0|     1|    13|           8|\n",
      "| 33|     F|  educator|   209|  85710|       3|   0|     1|    13|           8|\n",
      "| 49|     F|  educator|   212|  61401|       4|   0|     1|    13|           8|\n",
      "+---+------+----------+------+-------+--------+----+------+------+------------+\n",
      "only showing top 20 rows\n",
      "\n"
     ]
    }
   ],
   "source": [
    "spark.sql(\"select * from user4 where OccupationId=8\").show()"
   ]
  },
  {
   "cell_type": "code",
   "execution_count": 198,
   "metadata": {},
   "outputs": [],
   "source": [
    "userdf5=userdf4.drop('seqnum')"
   ]
  },
  {
   "cell_type": "code",
   "execution_count": 200,
   "metadata": {},
   "outputs": [],
   "source": [
    "userdf5.createOrReplaceTempView('user5')"
   ]
  },
  {
   "cell_type": "code",
   "execution_count": 202,
   "metadata": {},
   "outputs": [
    {
     "name": "stdout",
     "output_type": "stream",
     "text": [
      "+---+------+-------------+------+-------+--------+----+------+------------+\n",
      "|Age|Gender|   Occupation|UserId|zipcode|AgeGroup|Male|Female|OccupationId|\n",
      "+---+------+-------------+------+-------+--------+----+------+------------+\n",
      "| 24|     M|   technician|     1|  85711|       2|   1|     0|           1|\n",
      "| 53|     F|        other|     2|  94043|       5|   0|     1|           2|\n",
      "| 23|     M|       writer|     3|  32067|       2|   1|     0|           3|\n",
      "| 24|     M|   technician|     4|  43537|       2|   1|     0|           1|\n",
      "| 33|     F|        other|     5|  15213|       3|   0|     1|           2|\n",
      "| 42|     M|    executive|     6|  98101|       4|   1|     0|           4|\n",
      "| 57|     M|administrator|     7|  91344|       5|   1|     0|           5|\n",
      "| 36|     M|administrator|     8|  05201|       3|   1|     0|           5|\n",
      "| 29|     M|      student|     9|  01002|       2|   1|     0|           6|\n",
      "| 53|     M|       lawyer|    10|  90703|       5|   1|     0|           7|\n",
      "| 39|     F|        other|    11|  30329|       3|   0|     1|           2|\n",
      "| 28|     F|        other|    12|  06405|       2|   0|     1|           2|\n",
      "| 47|     M|     educator|    13|  29206|       4|   1|     0|           8|\n",
      "| 45|     M|    scientist|    14|  55106|       4|   1|     0|           9|\n",
      "| 49|     F|     educator|    15|  97301|       4|   0|     1|           8|\n",
      "| 21|     M|entertainment|    16|  10309|       2|   1|     0|          10|\n",
      "| 30|     M|   programmer|    17|  06355|       3|   1|     0|          11|\n",
      "| 35|     F|        other|    18|  37212|       3|   0|     1|           2|\n",
      "| 40|     M|    librarian|    19|  02138|       4|   1|     0|          12|\n",
      "| 42|     F|    homemaker|    20|  95660|       4|   0|     1|          13|\n",
      "+---+------+-------------+------+-------+--------+----+------+------------+\n",
      "only showing top 20 rows\n",
      "\n"
     ]
    }
   ],
   "source": [
    "spark.sql(\"select * from user5\").show()"
   ]
  },
  {
   "cell_type": "code",
   "execution_count": null,
   "metadata": {},
   "outputs": [],
   "source": []
  }
 ],
 "metadata": {
  "kernelspec": {
   "display_name": "Python 3 (ipykernel)",
   "language": "python",
   "name": "python3"
  },
  "language_info": {
   "codemirror_mode": {
    "name": "ipython",
    "version": 3
   },
   "file_extension": ".py",
   "mimetype": "text/x-python",
   "name": "python",
   "nbconvert_exporter": "python",
   "pygments_lexer": "ipython3",
   "version": "3.9.13"
  }
 },
 "nbformat": 4,
 "nbformat_minor": 2
}
